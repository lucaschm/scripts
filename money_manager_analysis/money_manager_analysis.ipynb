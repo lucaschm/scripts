{
 "cells": [
  {
   "cell_type": "markdown",
   "metadata": {},
   "source": [
    "The purpose of this Notebook, is to analyze money spendings data. I have collected the data with an app called money manager.  \n",
    "> This notebook is not ready to use."
   ]
  },
  {
   "cell_type": "code",
   "execution_count": 7,
   "metadata": {},
   "outputs": [
    {
     "name": "stdout",
     "output_type": "stream",
     "text": [
      "Reading Money Manager_14-12-24.xls: 880 rows\n",
      "---\n",
      "Total rows originally: 880\n",
      "0 duplicates removed\n",
      "Final size: 880\n",
      "---\n"
     ]
    }
   ],
   "source": [
    "import os\n",
    "import pandas as pd\n",
    "\n",
    "# Path to the folder containing the money manager files\n",
    "folder_path = \"data\"\n",
    "\n",
    "# Initialize an empty list to store DataFrames\n",
    "dataframes = []\n",
    "total_len = 0\n",
    "\n",
    "# Loop through each file in the folder\n",
    "for file_name in os.listdir(folder_path):\n",
    "    # Check if the file is a xls\n",
    "    if file_name.endswith(\".xls\") and \"Money Manager\" in file_name:\n",
    "        \n",
    "        file_path = os.path.join(folder_path, file_name)\n",
    "        \n",
    "        # Read the xls file\n",
    "        df = pd.read_excel(file_path)\n",
    "        print(f\"Reading {file_name}: {len(df)} rows\")\n",
    "        total_len += len(df)\n",
    "\n",
    "        # Append the DataFrame to the list\n",
    "        dataframes.append(df)\n",
    "\n",
    "# Concatenate all the DataFrames in the list\n",
    "combined_df = pd.concat(dataframes, ignore_index=True)\n",
    "\n",
    "\n",
    "print(f\"---\\nTotal rows originally: {total_len}\")\n",
    "\n",
    "# remove duplicate rows\n",
    "combined_df.drop_duplicates(inplace=True)\n",
    "print(f\"{total_len - len(combined_df)} duplicates removed\")\n",
    "total_len = len(combined_df)\n",
    "\n",
    "# result\n",
    "print(f\"Final size: {total_len}\\n---\")"
   ]
  }
 ],
 "metadata": {
  "kernelspec": {
   "display_name": "Python 3",
   "language": "python",
   "name": "python3"
  },
  "language_info": {
   "codemirror_mode": {
    "name": "ipython",
    "version": 3
   },
   "file_extension": ".py",
   "mimetype": "text/x-python",
   "name": "python",
   "nbconvert_exporter": "python",
   "pygments_lexer": "ipython3",
   "version": "3.10.11"
  }
 },
 "nbformat": 4,
 "nbformat_minor": 2
}
